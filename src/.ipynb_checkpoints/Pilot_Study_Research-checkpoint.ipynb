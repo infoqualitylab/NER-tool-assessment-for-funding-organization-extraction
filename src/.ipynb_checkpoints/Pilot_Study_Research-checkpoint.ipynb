{
 "cells": [
  {
   "cell_type": "markdown",
   "metadata": {
    "id": "opwo2UbHwhYn"
   },
   "source": [
    "**1. Installing required packages**\n"
   ]
  },
  {
   "cell_type": "code",
   "execution_count": 1,
   "metadata": {
    "colab": {
     "base_uri": "https://localhost:8080/"
    },
    "id": "Lk5g7GiPwdIW",
    "outputId": "451b08ec-e4b8-4ea1-bb45-b24d32cc68a8"
   },
   "outputs": [
    {
     "name": "stdout",
     "output_type": "stream",
     "text": [
      "Requirement already satisfied: Bio in /Users/saishdesai/opt/anaconda3/lib/python3.8/site-packages (1.5.9)\n",
      "Requirement already satisfied: tqdm in /Users/saishdesai/opt/anaconda3/lib/python3.8/site-packages (from Bio) (4.62.3)\n",
      "Requirement already satisfied: pandas in /Users/saishdesai/opt/anaconda3/lib/python3.8/site-packages (from Bio) (1.5.3)\n",
      "Requirement already satisfied: requests in /Users/saishdesai/opt/anaconda3/lib/python3.8/site-packages (from Bio) (2.27.1)\n",
      "Requirement already satisfied: gprofiler-official in /Users/saishdesai/opt/anaconda3/lib/python3.8/site-packages (from Bio) (1.0.0)\n",
      "Requirement already satisfied: biopython>=1.80 in /Users/saishdesai/opt/anaconda3/lib/python3.8/site-packages (from Bio) (1.81)\n",
      "Requirement already satisfied: mygene in /Users/saishdesai/opt/anaconda3/lib/python3.8/site-packages (from Bio) (3.2.2)\n",
      "Requirement already satisfied: pooch in /Users/saishdesai/opt/anaconda3/lib/python3.8/site-packages (from Bio) (1.7.0)\n",
      "Requirement already satisfied: numpy in /Users/saishdesai/opt/anaconda3/lib/python3.8/site-packages (from biopython>=1.80->Bio) (1.22.4)\n",
      "Requirement already satisfied: biothings-client>=0.2.6 in /Users/saishdesai/opt/anaconda3/lib/python3.8/site-packages (from mygene->Bio) (0.3.0)\n",
      "Requirement already satisfied: certifi>=2017.4.17 in /Users/saishdesai/opt/anaconda3/lib/python3.8/site-packages (from requests->Bio) (2021.10.8)\n",
      "Requirement already satisfied: charset-normalizer~=2.0.0 in /Users/saishdesai/opt/anaconda3/lib/python3.8/site-packages (from requests->Bio) (2.0.4)\n",
      "Requirement already satisfied: idna<4,>=2.5 in /Users/saishdesai/opt/anaconda3/lib/python3.8/site-packages (from requests->Bio) (3.2)\n",
      "Requirement already satisfied: urllib3<1.27,>=1.21.1 in /Users/saishdesai/opt/anaconda3/lib/python3.8/site-packages (from requests->Bio) (1.26.7)\n",
      "Requirement already satisfied: python-dateutil>=2.8.1 in /Users/saishdesai/opt/anaconda3/lib/python3.8/site-packages (from pandas->Bio) (2.8.2)\n",
      "Requirement already satisfied: pytz>=2020.1 in /Users/saishdesai/opt/anaconda3/lib/python3.8/site-packages (from pandas->Bio) (2021.3)\n",
      "Requirement already satisfied: six>=1.5 in /Users/saishdesai/opt/anaconda3/lib/python3.8/site-packages (from python-dateutil>=2.8.1->pandas->Bio) (1.15.0)\n",
      "Requirement already satisfied: packaging>=20.0 in /Users/saishdesai/opt/anaconda3/lib/python3.8/site-packages (from pooch->Bio) (21.3)\n",
      "Requirement already satisfied: platformdirs>=2.5.0 in /Users/saishdesai/opt/anaconda3/lib/python3.8/site-packages (from pooch->Bio) (3.2.0)\n",
      "Requirement already satisfied: pyparsing!=3.0.5,>=2.0.2 in /Users/saishdesai/opt/anaconda3/lib/python3.8/site-packages (from packaging>=20.0->pooch->Bio) (3.0.4)\n"
     ]
    }
   ],
   "source": [
    "!pip install Bio"
   ]
  },
  {
   "cell_type": "markdown",
   "metadata": {
    "id": "PiyfX594wpZI"
   },
   "source": [
    "**2. Importing required libraries**"
   ]
  },
  {
   "cell_type": "code",
   "execution_count": 2,
   "metadata": {
    "id": "5gY0qY5QwsGT"
   },
   "outputs": [],
   "source": [
    "from Bio import Entrez\n",
    "import matplotlib.pyplot as plt\n",
    "import matplotlib.dates as mdates\n",
    "import datetime\n",
    "import pandas as pd"
   ]
  },
  {
   "cell_type": "code",
   "execution_count": 3,
   "metadata": {
    "colab": {
     "base_uri": "https://localhost:8080/",
     "height": 35
    },
    "id": "tZEOp7_LFzh0",
    "outputId": "e5623ff4-5223-4722-d989-0576faccd8a8"
   },
   "outputs": [
    {
     "data": {
      "text/plain": [
       "'2022/01/01:2022/01/01[EDAT]+open+access[filter]'"
      ]
     },
     "execution_count": 3,
     "metadata": {},
     "output_type": "execute_result"
    }
   ],
   "source": [
    "start_date = '2022/01/01'\n",
    "end_date = '2022/01/01'\n",
    "'{}:{}[EDAT]+open+access[filter]'.format(start_date, end_date)"
   ]
  },
  {
   "cell_type": "markdown",
   "metadata": {
    "id": "DW_--Wc_wske"
   },
   "source": [
    "**3. Extracting record from pubmed**"
   ]
  },
  {
   "cell_type": "code",
   "execution_count": null,
   "metadata": {
    "id": "_0djbrRjxC_8"
   },
   "outputs": [],
   "source": [
    "def count_extraction(start_date, end_date):\n",
    "  # Specify the dates to retrieve research papers from PubMed\n",
    "  # start_date = '2023/04/04'\n",
    "  # end_date = '2023/04/04'\n",
    "\n",
    "  # Provide your email address for Entrez API request\n",
    "  Entrez.email = 'sbdesai2@illinois.edu'\n",
    "\n",
    "  # Use Entrez to fetch the count of research papers added to PubMed based on dates\n",
    "  # handle = Entrez.esearch(db='pubmed', term='{}:{}[EDAT]'.format(start_date, end_date))\n",
    "  handle = Entrez.esearch(db='pmc', term='{}:{}[EDate]+open+access[filter]'.format(start_date, end_date))\n",
    "\n",
    "  record = Entrez.read(handle)\n",
    "  count = int(record['Count'])\n",
    "  return count\n",
    "\n",
    "\n",
    "# Define the start and end dates for the year 2022\n",
    "start_date = datetime.date(2021, 1, 1)\n",
    "end_date = datetime.date(2022, 12, 31)\n",
    "\n",
    "# Generate a list of dates for the year 2022\n",
    "date_list = [(start_date + datetime.timedelta(days=i)).strftime('%Y/%m/%d') for i in range((end_date - start_date).days + 1)]\n",
    "count_list = []\n",
    "# Print the list of dates\n",
    "for date in date_list:\n",
    "    count_list.append(count_extraction(date,date))\n",
    "\n",
    "entrez_addition_df = pd.DataFrame(zip(date_list, count_list), columns = ['Date', 'Count'])"
   ]
  },
  {
   "cell_type": "code",
   "execution_count": null,
   "metadata": {
    "id": "uJL__vye0bnr"
   },
   "outputs": [],
   "source": [
    "# entrez_addition_df = pd.read_csv(\"/content/output.csv\")\n",
    "# Convert 'Date' column to datetime\n",
    "entrez_addition_df['Date'] = pd.to_datetime(entrez_addition_df['Date'])\n",
    "\n",
    "# Extract day name and day number\n",
    "entrez_addition_df['Day_Name'] = entrez_addition_df['Date'].dt.strftime('%A')  # Extract day name\n",
    "entrez_addition_df['Day_Number'] = entrez_addition_df['Date'].dt.day          # Extract day number\n",
    "entrez_addition_df['Year'] = entrez_addition_df['Date'].dt.year "
   ]
  },
  {
   "cell_type": "code",
   "execution_count": null,
   "metadata": {
    "id": "1DUGCTu1xlJY"
   },
   "outputs": [],
   "source": [
    "entrez_addition_df.to_csv(\"..data/pilot_study_output.csv\")"
   ]
  },
  {
   "cell_type": "code",
   "execution_count": null,
   "metadata": {
    "colab": {
     "base_uri": "https://localhost:8080/",
     "height": 424
    },
    "id": "Sq23txYxBzD-",
    "outputId": "0a95449b-e4d2-49b4-f1fc-366ad17f144e"
   },
   "outputs": [],
   "source": [
    "# Get the list of unnamed columns\n",
    "unnamed_columns = entrez_addition_df.columns[entrez_addition_df.columns.str.contains('Unnamed')].tolist()\n",
    "\n",
    "# Drop the unnamed columns\n",
    "entrez_addition_df = entrez_addition_df.drop(columns=unnamed_columns)\n",
    "\n",
    "entrez_addition_df"
   ]
  },
  {
   "cell_type": "markdown",
   "metadata": {
    "id": "8f3sVkaJwsvs"
   },
   "source": [
    "**4. Plotting the count of research papers added to pubmed based on the Entrez date**"
   ]
  },
  {
   "cell_type": "code",
   "execution_count": null,
   "metadata": {
    "id": "fSRKWVL7w69W"
   },
   "outputs": [],
   "source": [
    "filtered_df = entrez_addition_df[entrez_addition_df['Day_Name'].isin(['Sunday', 'Monday', 'Tuesday'])]\n",
    "df = filtered_df[filtered_df['Year'] == 2022]\n",
    "n = 3\n",
    "skip = 18\n",
    "groups = []\n",
    "for i in range(0, len(df), n + skip):\n",
    "    groups.append(df.iloc[i:i+n])\n",
    "print(groups[0])"
   ]
  },
  {
   "cell_type": "code",
   "execution_count": null,
   "metadata": {
    "colab": {
     "base_uri": "https://localhost:8080/",
     "height": 1000
    },
    "id": "lZbTcbHL_atG",
    "outputId": "fb94b475-2804-492e-ce1d-0b84601de833"
   },
   "outputs": [],
   "source": [
    "# Create subplots\n",
    "fig, axs = plt.subplots(nrows = 2, ncols = 4, figsize=(25, 10))\n",
    "ind = 0\n",
    "for row in axs:\n",
    "    for ax in row:\n",
    "        ax.set_ylim(0, 6000)\n",
    "        # Create a plot in the current subplot\n",
    "        ax.bar(groups[ind]['Day_Name'], groups[ind]['Count'], label=f'Group {index}', linewidth = 5, color = 'green')\n",
    "        ax.set_title(f'Group {ind+1}', fontsize = 40)  # Set subplot title\n",
    "        \n",
    "        # Add legend and labels\n",
    "        ax.set_xlabel('Day of Week', fontsize = 20)\n",
    "        ax.set_ylabel('Research Paper Count', fontsize = 20)\n",
    "        ax.tick_params(axis = 'x', labelsize = 16, rotation = 45)\n",
    "        ax.tick_params(axis = 'y', labelsize = 16)\n",
    "        ind+=1\n",
    "\n",
    "# Adjust spacing between subplots\n",
    "plt.tight_layout()\n",
    "plt.savefig('../data/pilot_study_viz')\n",
    "# Show the plot"
   ]
  },
  {
   "cell_type": "code",
   "execution_count": null,
   "metadata": {},
   "outputs": [],
   "source": []
  },
  {
   "cell_type": "code",
   "execution_count": null,
   "metadata": {},
   "outputs": [],
   "source": []
  }
 ],
 "metadata": {
  "colab": {
   "provenance": []
  },
  "kernelspec": {
   "display_name": "Python 3 (ipykernel)",
   "language": "python",
   "name": "python3"
  },
  "language_info": {
   "codemirror_mode": {
    "name": "ipython",
    "version": 3
   },
   "file_extension": ".py",
   "mimetype": "text/x-python",
   "name": "python",
   "nbconvert_exporter": "python",
   "pygments_lexer": "ipython3",
   "version": "3.8.12"
  }
 },
 "nbformat": 4,
 "nbformat_minor": 1
}
